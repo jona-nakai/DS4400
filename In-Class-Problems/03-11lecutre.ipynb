{
 "cells": [
  {
   "cell_type": "code",
   "execution_count": 9,
   "metadata": {},
   "outputs": [],
   "source": [
    "import numpy as np\n",
    "from scipy.optimize import minimize"
   ]
  },
  {
   "cell_type": "code",
   "execution_count": 7,
   "metadata": {},
   "outputs": [
    {
     "data": {
      "text/plain": [
       "array([[ 0.625],\n",
       "       [-0.75 ],\n",
       "       [ 1.5  ]])"
      ]
     },
     "execution_count": 7,
     "metadata": {},
     "output_type": "execute_result"
    }
   ],
   "source": [
    "A = np.array([[0, 0, -2],\n",
    "              [0, 2, 1],\n",
    "              [2, -1, 0],\n",
    "              ])\n",
    "y = np.array([-3, 0, 2]).reshape(-1, 1)\n",
    "\n",
    "x = np.linalg.inv(A) @ y\n",
    "x"
   ]
  },
  {
   "cell_type": "code",
   "execution_count": 14,
   "metadata": {},
   "outputs": [
    {
     "name": "stdout",
     "output_type": "stream",
     "text": [
      "Optimal x = -0.00\n",
      "Lowest f(x) = 1.00\n"
     ]
    },
    {
     "name": "stderr",
     "output_type": "stream",
     "text": [
      "/var/folders/1z/mdrn1d_s0fq7xx_ykf2h4jn80000gn/T/ipykernel_11974/2540507405.py:8: DeprecationWarning: Conversion of an array with ndim > 0 to a scalar is deprecated, and will error in future. Ensure you extract a single element from your array before performing this operation. (Deprecated NumPy 1.25.)\n",
      "  print(\"Optimal x = %.2f\" % result['x'])\n"
     ]
    }
   ],
   "source": [
    "def obj(x):\n",
    "    return 2*(x**2) + 1\n",
    "def g(x):\n",
    "    return -x+1\n",
    "\n",
    "constraints = [{'type':'ineq', 'fun':g}]\n",
    "result = minimize(obj, -2, constraints=constraints)\n",
    "print(\"Optimal x = %.2f\" % result['x'])\n",
    "print(\"Lowest f(x) = %.2f\" % result['fun'])"
   ]
  },
  {
   "cell_type": "code",
   "execution_count": 28,
   "metadata": {},
   "outputs": [
    {
     "name": "stdout",
     "output_type": "stream",
     "text": [
      "Optimal x = (1.00, 1.00)\n",
      "Lowest f(x) = 5.00\n"
     ]
    }
   ],
   "source": [
    "def obj(x):\n",
    "    return x[0] + 4* (x[1]**2)\n",
    "def h(x):\n",
    "    return x[0] ** 2 - 5*x[0] + 4\n",
    "def g(x):\n",
    "    return x[1] - 1\n",
    "\n",
    "constraints = [{'type':'eq', 'fun':h},\n",
    "               {'type':'ineq', 'fun':g}]\n",
    "result = minimize(obj, [0, 0], constraints=constraints)\n",
    "print(\"Optimal x = (%.2f, %.2f)\" % (result['x'][0], result['x'][1]))\n",
    "print(\"Lowest f(x) = %.2f\" % result['fun'])"
   ]
  },
  {
   "cell_type": "code",
   "execution_count": 26,
   "metadata": {},
   "outputs": [
    {
     "name": "stdout",
     "output_type": "stream",
     "text": [
      "Optimal x = (0.71, 0.71)\n",
      "Lowest f(x) = 1.41\n"
     ]
    }
   ],
   "source": [
    "def obj(x):\n",
    "    return x[0] + x[1]\n",
    "def h(x):\n",
    "    return x[0] ** 2 + x[1] ** 2 - 1\n",
    "\n",
    "constraints = [{'type':'eq', 'fun':h}]\n",
    "result = minimize(obj, [0, 0], constraints=constraints)\n",
    "print(\"Optimal x = (%.2f, %.2f)\" % (result['x'][0], result['x'][1]))\n",
    "print(\"Lowest f(x) = %.2f\" % result['fun'])"
   ]
  },
  {
   "cell_type": "code",
   "execution_count": 27,
   "metadata": {},
   "outputs": [
    {
     "name": "stdout",
     "output_type": "stream",
     "text": [
      "Optimal x = (1.60, 3.20)\n",
      "Lowest f(x) = 12.80\n"
     ]
    }
   ],
   "source": [
    "def obj(x):\n",
    "    return x[0] ** 2 + x[1] ** 2\n",
    "def h(x):\n",
    "    return 2*x[0] + 4*x[1] - 16\n",
    "\n",
    "constraints = [{'type':'eq', 'fun':h}]\n",
    "result = minimize(obj, [0, 0], constraints=constraints)\n",
    "print(\"Optimal x = (%.2f, %.2f)\" % (result['x'][0], result['x'][1]))\n",
    "print(\"Lowest f(x) = %.2f\" % result['fun'])"
   ]
  },
  {
   "cell_type": "code",
   "execution_count": null,
   "metadata": {},
   "outputs": [],
   "source": []
  }
 ],
 "metadata": {
  "kernelspec": {
   "display_name": "ds",
   "language": "python",
   "name": "python3"
  },
  "language_info": {
   "codemirror_mode": {
    "name": "ipython",
    "version": 3
   },
   "file_extension": ".py",
   "mimetype": "text/x-python",
   "name": "python",
   "nbconvert_exporter": "python",
   "pygments_lexer": "ipython3",
   "version": "3.12.0"
  }
 },
 "nbformat": 4,
 "nbformat_minor": 2
}
