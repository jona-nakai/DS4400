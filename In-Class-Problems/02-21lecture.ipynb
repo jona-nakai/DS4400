{
 "cells": [
  {
   "cell_type": "code",
   "execution_count": 61,
   "metadata": {},
   "outputs": [],
   "source": [
    "import numpy as np\n",
    "from scipy.integrate import quad\n",
    "import matplotlib.pyplot as plt\n",
    "from scipy.stats import norm"
   ]
  },
  {
   "cell_type": "code",
   "execution_count": 3,
   "metadata": {},
   "outputs": [
    {
     "name": "stdout",
     "output_type": "stream",
     "text": [
      "0.05129329438755048\n",
      "2.997734276224664\n",
      "9.210340371976184\n"
     ]
    }
   ],
   "source": [
    "print(np.log(1/0.95))\n",
    "print(np.log(1/0.0499))\n",
    "print(np.log(1/0.0001))"
   ]
  },
  {
   "cell_type": "code",
   "execution_count": 7,
   "metadata": {},
   "outputs": [
    {
     "name": "stdout",
     "output_type": "stream",
     "text": [
      "0.07400058144377678\n",
      "4.324816374212189\n",
      "13.287712379549449\n"
     ]
    }
   ],
   "source": [
    "print(np.log2(1/0.95))\n",
    "print(np.log2(1/0.0499))\n",
    "print(np.log2(1/0.0001))"
   ]
  },
  {
   "cell_type": "code",
   "execution_count": 8,
   "metadata": {},
   "outputs": [
    {
     "name": "stdout",
     "output_type": "stream",
     "text": [
      "0.022276394711152208\n",
      "1.30189945437661\n",
      "4.0\n"
     ]
    }
   ],
   "source": [
    "print(np.log10(1/0.95))\n",
    "print(np.log10(1/0.0499))\n",
    "print(np.log10(1/0.0001))"
   ]
  },
  {
   "cell_type": "code",
   "execution_count": 9,
   "metadata": {},
   "outputs": [
    {
     "name": "stdout",
     "output_type": "stream",
     "text": [
      "1.3321790402101223\n"
     ]
    }
   ],
   "source": [
    "print((np.log(1/(2/5))*(2/5)) + 3*(np.log(1/(1/5))*(1/5)))"
   ]
  },
  {
   "cell_type": "code",
   "execution_count": 21,
   "metadata": {},
   "outputs": [],
   "source": [
    "phone = np.genfromtxt('Data/time_until_phone_drop.csv', delimiter=',')"
   ]
  },
  {
   "cell_type": "code",
   "execution_count": 35,
   "metadata": {},
   "outputs": [
    {
     "data": {
      "text/plain": [
       "0.8768340889934707"
      ]
     },
     "execution_count": 35,
     "metadata": {},
     "output_type": "execute_result"
    }
   ],
   "source": [
    "def p(x):\n",
    "    return (1/np.mean(phone)) * np.exp(-(1/np.mean(phone)) * x)\n",
    "\n",
    "def f(x):\n",
    "    return p(x) * np.log(1/p(x))\n",
    "\n",
    "ans, error = quad(f, np.min(phone), np.max(phone))\n",
    "ans"
   ]
  },
  {
   "cell_type": "code",
   "execution_count": 36,
   "metadata": {},
   "outputs": [
    {
     "name": "stdout",
     "output_type": "stream",
     "text": [
      "0.8880500438090554\n"
     ]
    }
   ],
   "source": [
    "entropy_sum = 0\n",
    "for i in phone:\n",
    "    entropy_sum += np.log(1/p(i))\n",
    "\n",
    "print((1/len(phone))*(entropy_sum))"
   ]
  },
  {
   "cell_type": "code",
   "execution_count": 39,
   "metadata": {},
   "outputs": [
    {
     "name": "stdout",
     "output_type": "stream",
     "text": [
      "0.22314355131420976\n"
     ]
    }
   ],
   "source": [
    "print((0*np.log(1/0.2)) + (1*np.log(1/0.8)))"
   ]
  },
  {
   "cell_type": "code",
   "execution_count": 52,
   "metadata": {},
   "outputs": [
    {
     "name": "stdout",
     "output_type": "stream",
     "text": [
      "p(x) entropy: 0.6730116670092565\n",
      "p(y) entropy: 1.0296530140645737\n",
      "Cross Entropy: 1.2707698310265663\n",
      "KL Divergence: 0.4032066025451051\n",
      "Entropy: 0.8675632284814612\n",
      "You cannot divide something by 0, so a 0 probability will make the entropy equation undefined\n"
     ]
    }
   ],
   "source": [
    "def entropy(p, q):\n",
    "    return p*np.log(1/q)\n",
    "\n",
    "print('p(x) entropy:', entropy(0.6, 0.6) + entropy(0.4, 0.4))\n",
    "print('p(y) entropy:', entropy(0.3, 0.3) + entropy(0.5, 0.5)+ entropy(0.2, 0.2))\n",
    "print('Cross Entropy:', entropy(1/6, 1/2) + entropy(2/3, 1/4) + entropy(1/6, 1/4))\n",
    "KLD = (1/6) * np.log((1/6)/(1/2)) + (2/3) * np.log((2/3)/(1/4))+ (1/6) * np.log((1/6)/(1/4))\n",
    "print(\"KL Divergence:\", KLD)\n",
    "print(\"Entropy:\", 2*entropy(1/6, 1/6) + entropy(2/3, 2/3))\n",
    "print(\"You cannot divide something by 0, so a 0 probability will make the entropy equation undefined\")"
   ]
  },
  {
   "cell_type": "code",
   "execution_count": 49,
   "metadata": {},
   "outputs": [],
   "source": [
    "dating_female = np.genfromtxt('Data/Age meeting a partner/age_met_dating_females.csv', delimiter=',')\n",
    "dating_male = np.genfromtxt('Data/Age meeting a partner/age_met_dating_males.csv', delimiter=',')\n",
    "married_female = np.genfromtxt('Data/Age meeting a partner/age_met_married_female.csv', delimiter=',')\n",
    "married_male = np.genfromtxt('Data/Age meeting a partner/age_met_married_males.csv', delimiter=',')"
   ]
  },
  {
   "cell_type": "code",
   "execution_count": 58,
   "metadata": {},
   "outputs": [
    {
     "data": {
      "text/plain": [
       "8.881470019888248"
      ]
     },
     "execution_count": 58,
     "metadata": {},
     "output_type": "execute_result"
    }
   ],
   "source": [
    "np.std(married_female)"
   ]
  },
  {
   "cell_type": "code",
   "execution_count": 62,
   "metadata": {},
   "outputs": [],
   "source": [
    "def p(x, data, σ): \n",
    "\tkde_sum = 0\n",
    "\tfor μᵢ in data:\n",
    "\t\tkde_sum += norm.pdf(x, μᵢ, σ)\n",
    "\treturn kde_sum/len(data)\n",
    "\n",
    "def p1(x): return p(x, dating_female, np.std(dating_female))\n",
    "def p2(x): return p(x, dating_male, np.std(dating_male))\n",
    "def p3(x): return p(x, married_female, np.std(married_female))\n",
    "def p4(x): return p(x, married_male, np.std(married_male))"
   ]
  },
  {
   "cell_type": "code",
   "execution_count": 63,
   "metadata": {},
   "outputs": [
    {
     "data": {
      "image/png": "[encoded data removed]",
      "text/plain": [
       "<Figure size 1100x400 with 4 Axes>"
      ]
     },
     "metadata": {},
     "output_type": "display_data"
    }
   ],
   "source": [
    "x = np.linspace(0, 80, 100)\n",
    "\n",
    "plt.figure(figsize=(11,4))\n",
    "plt.subplot(141)\n",
    "plt.hist(dating_female, density=True, bins=20)\n",
    "y = p1(x)\n",
    "plt.plot(x, y)\n",
    "plt.subplot(142)\n",
    "plt.hist(dating_male, density=True, bins=20)\n",
    "y = p2(x)\n",
    "plt.plot(x, y)\n",
    "plt.subplot(143)\n",
    "plt.hist(married_female, density=True, bins=20)\n",
    "y = p3(x)\n",
    "plt.plot(x, y)\n",
    "plt.subplot(144)\n",
    "plt.hist(married_male, density=True, bins=20)\n",
    "y = p4(x)\n",
    "plt.plot(x, y)\n",
    "plt.show()"
   ]
  }
 ],
 "metadata": {
  "kernelspec": {
   "display_name": "ds",
   "language": "python",
   "name": "python3"
  },
  "language_info": {
   "codemirror_mode": {
    "name": "ipython",
    "version": 3
   },
   "file_extension": ".py",
   "mimetype": "text/x-python",
   "name": "python",
   "nbconvert_exporter": "python",
   "pygments_lexer": "ipython3",
   "version": "3.12.0"
  }
 },
 "nbformat": 4,
 "nbformat_minor": 2
}
