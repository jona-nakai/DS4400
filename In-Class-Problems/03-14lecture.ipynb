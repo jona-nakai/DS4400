{
 "cells": [
  {
   "cell_type": "code",
   "execution_count": 8,
   "metadata": {},
   "outputs": [],
   "source": [
    "import numpy as np\n",
    "from scipy.optimize import minimize"
   ]
  },
  {
   "cell_type": "code",
   "execution_count": 3,
   "metadata": {},
   "outputs": [
    {
     "data": {
      "text/plain": [
       "array([[ 5. ],\n",
       "       [ 5. ],\n",
       "       [-2.5]])"
      ]
     },
     "execution_count": 3,
     "metadata": {},
     "output_type": "execute_result"
    }
   ],
   "source": [
    "A = np.array([[0, -1, -2],\n",
    "              [-1, 0, -2],\n",
    "              [2, 2, 0]])\n",
    "y = np.array([0, 0, 20]).reshape(-1, 1)\n",
    "\n",
    "x = np.linalg.inv(A) @ y\n",
    "x"
   ]
  },
  {
   "cell_type": "code",
   "execution_count": 15,
   "metadata": {},
   "outputs": [
    {
     "name": "stdout",
     "output_type": "stream",
     "text": [
      "Optimal x = (5.00, 5.00)\n",
      "Lowest f(x) = 25.00\n"
     ]
    }
   ],
   "source": [
    "def obj(x):\n",
    "    return x[0] * x[1]\n",
    "def h(x):\n",
    "    return 2*x[0] + 2*x[1] - 20\n",
    "\n",
    "constraints = [{'type':'eq', 'fun':h}]\n",
    "result = minimize(obj, [0, 0], constraints=constraints)\n",
    "print(\"Optimal x = (%.2f, %.2f)\" % (result['x'][0], result['x'][1]))\n",
    "print(\"Lowest f(x) = %.2f\" % result['fun'])"
   ]
  },
  {
   "cell_type": "code",
   "execution_count": 16,
   "metadata": {},
   "outputs": [
    {
     "name": "stdout",
     "output_type": "stream",
     "text": [
      "Optimal x = (3.00, 7.00)\n",
      "Lowest f(x) = -21.00\n"
     ]
    }
   ],
   "source": [
    "def obj(x):\n",
    "    return -x[0] * x[1]\n",
    "def h(x):\n",
    "    return 2*x[0] + 2*x[1] - 20\n",
    "def g(x):\n",
    "    return 3 - x[0]\n",
    "\n",
    "constraints = [{'type':'eq', 'fun':h},\n",
    "               {'type':'ineq', 'fun':g}]\n",
    "result = minimize(obj, [0, 0], constraints=constraints)\n",
    "print(\"Optimal x = (%.2f, %.2f)\" % (result['x'][0], result['x'][1]))\n",
    "print(\"Lowest f(x) = %.2f\" % result['fun'])"
   ]
  },
  {
   "cell_type": "code",
   "execution_count": 23,
   "metadata": {},
   "outputs": [
    {
     "name": "stdout",
     "output_type": "stream",
     "text": [
      "Optimal x = (1.76, 2.65)\n",
      "Lowest f(x) = 4.03\n"
     ]
    }
   ],
   "source": [
    "def obj(x):\n",
    "    return ((x[0]-4)**2 + (x[1]-6)**2)**0.5\n",
    "def h(x):\n",
    "    return x[0]**2 + x[1]**2 - 3.18**2\n",
    "\n",
    "constraints = [{'type':'eq', 'fun':h}]\n",
    "result = minimize(obj, [1, 1], constraints=constraints)\n",
    "print(\"Optimal x = (%.2f, %.2f)\" % (result['x'][0], result['x'][1]))\n",
    "print(\"Lowest f(x) = %.2f\" % result['fun'])"
   ]
  },
  {
   "cell_type": "code",
   "execution_count": 32,
   "metadata": {},
   "outputs": [
    {
     "name": "stdout",
     "output_type": "stream",
     "text": [
      "Optimal x = (1.00, 0.10)\n",
      "Lowest f(x) = 5.32\n"
     ]
    }
   ],
   "source": [
    "def obj(x):\n",
    "    return ((x[0]-1.76)**2 + (x[1]-2.64)**2)**0.5 + ((x[0]-2.25)**2 + (x[1]+2.25)**2)**0.5\n",
    "def g(x):\n",
    "    return -(x[0]**2 + x[1]**2)**0.5 + 1\n",
    "\n",
    "constraints = [{'type':'ineq', 'fun':g}]\n",
    "result = minimize(obj, [1, 1], constraints=constraints)\n",
    "print(\"Optimal x = (%.2f, %.2f)\" % (result['x'][0], result['x'][1]))\n",
    "print(\"Lowest f(x) = %.2f\" % result['fun'])"
   ]
  },
  {
   "cell_type": "code",
   "execution_count": null,
   "metadata": {},
   "outputs": [],
   "source": []
  }
 ],
 "metadata": {
  "kernelspec": {
   "display_name": "ds",
   "language": "python",
   "name": "python3"
  },
  "language_info": {
   "codemirror_mode": {
    "name": "ipython",
    "version": 3
   },
   "file_extension": ".py",
   "mimetype": "text/x-python",
   "name": "python",
   "nbconvert_exporter": "python",
   "pygments_lexer": "ipython3",
   "version": "3.12.0"
  }
 },
 "nbformat": 4,
 "nbformat_minor": 2
}
